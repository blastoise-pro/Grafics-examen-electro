{
 "cells": [
  {
   "cell_type": "code",
   "execution_count": 61,
   "metadata": {},
   "outputs": [
    {
     "data": {
      "image/png": "[encoded data removed]",
      "text/plain": [
       "<Figure size 432x288 with 1 Axes>"
      ]
     },
     "metadata": {
      "needs_background": "light"
     },
     "output_type": "display_data"
    }
   ],
   "source": [
    "import matplotlib.pyplot as plt\n",
    "import numpy as np\n",
    "mu0=4*np.pi*10**-7\n",
    "step = 0.1\n",
    "alpha=1\n",
    "beta=1\n",
    "a=3\n",
    "b=6\n",
    "c=9\n",
    "I=1\n",
    "#x = np.linspace(0, 12, 100)\n",
    "xa = np.linspace(0, a, 25)\n",
    "xb = np.linspace(a, b, 25)\n",
    "xc = np.linspace(b, c, 25)\n",
    "xd = np.linspace(c, 12, 25)\n",
    "#conds = [x<a, (a<=x)&(x<b), (b<=x)&(x<c), x>=c]\n",
    "\n",
    "#funcsBz = [-alpha*c*(np.sinh(1-b/c)+2*np.sinh(1-a/c)), lambda x: -alpha*c*(-2*np.sinh(x/c-1)+np.sinh(b/c-1)), lambda x: -alpha*c*np.sinh(x/c-1), 0]\n",
    "#yBz = np.piecewise(x, conds, funcsBz)\n",
    "yaBz = alpha*c*np.sinh(a/c-1)*np.full((len(xa),), 1)\n",
    "ybBz = 2*alpha*c*np.sinh(xb/c-1)\n",
    "ycBz = alpha*c*np.sinh(xc/c-1)\n",
    "ydBz = 0*np.full((len(xd),), 1)\n",
    "\n",
    "yaHz = alpha*c*np.sinh(a/c-1)*np.full((len(xa),), 1)\n",
    "ybHz = alpha*c*np.sinh(xb/c-1)\n",
    "ycHz = alpha*c*np.sinh(xc/c-1)\n",
    "ydHz = 0*np.full((len(xd),), 1)\n",
    "\n",
    "\n",
    "plt.plot(xa, yaBz, xb, ybBz, xc, ycBz, xd, ydBz, color=\"blue\")\n",
    "plt.plot(xa, yaHz, xb, ybHz, xc, ycHz, xd, ydHz, color=\"green\")\n",
    "plt.xticks(ticks = [a,b,c], labels= [\"a\", \"b\", \"c\"])\n",
    "plt.yticks(ticks = [0])\n",
    "#plt.xlabel(r'$t$ (ms)')\n",
    "#plt.ylabel(r'$V$ (V)')\n",
    "#plt.legend([r'$\\frac{B}{\\mu_0}$', None, None, r'$H$'])\n",
    "plt.savefig(\"Comp_Z.png\")\n",
    "plt.show()"
   ]
  },
  {
   "cell_type": "code",
   "execution_count": 62,
   "metadata": {},
   "outputs": [
    {
     "name": "stderr",
     "output_type": "stream",
     "text": [
      "C:\\ProgramData\\Anaconda3\\lib\\site-packages\\ipykernel_launcher.py:18: RuntimeWarning: divide by zero encountered in true_divide\n",
      "C:\\ProgramData\\Anaconda3\\lib\\site-packages\\ipykernel_launcher.py:23: RuntimeWarning: divide by zero encountered in true_divide\n"
     ]
    },
    {
     "data": {
      "image/png": "[encoded data removed]",
      "text/plain": [
       "<Figure size 432x288 with 1 Axes>"
      ]
     },
     "metadata": {
      "needs_background": "light"
     },
     "output_type": "display_data"
    }
   ],
   "source": [
    "mu0=4*np.pi*10**-7\n",
    "step = 0.1\n",
    "alpha=1\n",
    "beta=1\n",
    "a=3\n",
    "b=6\n",
    "c=9\n",
    "I=1\n",
    "#x = np.linspace(0, 12, 100)\n",
    "xa = np.linspace(0, a, 25)\n",
    "xb = np.linspace(a, b, 25)\n",
    "xc = np.linspace(b, c, 25)\n",
    "xd = np.linspace(c, 12, 25)\n",
    "#conds = [x<a, (a<=x)&(x<b), (b<=x)&(x<c), x>=c]\n",
    "\n",
    "#funcsBz = [-alpha*c*(np.sinh(1-b/c)+2*np.sinh(1-a/c)), lambda x: -alpha*c*(-2*np.sinh(x/c-1)+np.sinh(b/c-1)), lambda x: -alpha*c*np.sinh(x/c-1), 0]\n",
    "#yBz = np.piecewise(x, conds, funcsBz)\n",
    "yaBp = I/(2*np.pi*xa)\n",
    "ybBp = beta+I/(2*np.pi*xb)\n",
    "ycBp = I/(2*np.pi*xc)\n",
    "ydBp = I/(2*np.pi*xd)\n",
    "\n",
    "yaHp = I/(2*np.pi*xa)\n",
    "ybHp = I/(2*np.pi*xb)\n",
    "ycHp = I/(2*np.pi*xc)\n",
    "ydHp = I/(2*np.pi*xd)\n",
    "\n",
    "\n",
    "plt.plot(xa, yaBp, xb, ybBp, xc, ycBp, xd, ydBp, color=\"blue\")\n",
    "plt.plot(xa, yaHp, xb, ybHp, xc, ycHp, xd, ydHp, color=\"green\")\n",
    "plt.xticks(ticks = [a,b,c], labels= [\"a\", \"b\", \"c\"])\n",
    "plt.yticks(ticks = [0])\n",
    "#plt.xlabel(r'$t$ (ms)')\n",
    "#plt.ylabel(r'$V$ (V)')\n",
    "#plt.legend([r'$\\frac{B}{\\mu_0}$', None, None, r'$H$'])\n",
    "plt.savefig(\"Comp_phi.png\")\n",
    "plt.show()"
   ]
  },
  {
   "cell_type": "code",
   "execution_count": 63,
   "metadata": {},
   "outputs": [
    {
     "data": {
      "image/png": "[encoded data removed]",
      "text/plain": [
       "<Figure size 432x288 with 1 Axes>"
      ]
     },
     "metadata": {
      "needs_background": "light"
     },
     "output_type": "display_data"
    }
   ],
   "source": [
    "mu0=4*np.pi*10**-7\n",
    "step = 0.1\n",
    "alpha=1\n",
    "beta=1\n",
    "a=3\n",
    "b=6\n",
    "c=9\n",
    "I=1\n",
    "#x = np.linspace(0, 12, 100)\n",
    "xa = np.linspace(0, a, 25)\n",
    "xb = np.linspace(a, b, 25)\n",
    "xc = np.linspace(b, c, 25)\n",
    "xd = np.linspace(c, 12, 25)\n",
    "#conds = [x<a, (a<=x)&(x<b), (b<=x)&(x<c), x>=c]\n",
    "\n",
    "#funcsBz = [-alpha*c*(np.sinh(1-b/c)+2*np.sinh(1-a/c)), lambda x: -alpha*c*(-2*np.sinh(x/c-1)+np.sinh(b/c-1)), lambda x: -alpha*c*np.sinh(x/c-1), 0]\n",
    "#yBz = np.piecewise(x, conds, funcsBz)\n",
    "yaBr = 0*np.full((len(xa),), 1)\n",
    "ybBr = 0*np.full((len(xb),), 1)\n",
    "ycBr = 0*np.full((len(xc),), 1)\n",
    "ydBr = 0*np.full((len(xd),), 1)\n",
    "\n",
    "yaHr = 0*np.full((len(xa),), 1)\n",
    "ybHr = -alpha*c*np.sinh(xb/c-1)\n",
    "ycHr = 0*np.full((len(xa),), 1)\n",
    "ydHr = 0*np.full((len(xa),), 1)\n",
    "\n",
    "\n",
    "plt.plot(xa, yaBr, xb, ybBr, xc, ycBr, xd, ydBr, color=\"blue\")\n",
    "plt.plot(xa, yaHr, xb, ybHr, xc, ycHr, xd, ydHr, color=\"green\")\n",
    "plt.xticks(ticks = [a,b,c], labels= [\"a\", \"b\", \"c\"])\n",
    "plt.yticks(ticks = [0])\n",
    "#plt.xlabel(r'$t$ (ms)')\n",
    "#plt.ylabel(r'$V$ (V)')\n",
    "#plt.legend([r'$\\frac{B}{\\mu_0}$', None, None, r'$H$'])\n",
    "plt.savefig(\"Comp_r.png\")\n",
    "plt.show()"
   ]
  },
  {
   "cell_type": "code",
   "execution_count": null,
   "metadata": {},
   "outputs": [],
   "source": []
  }
 ],
 "metadata": {
  "kernelspec": {
   "display_name": "Python 3",
   "language": "python",
   "name": "python3"
  },
  "language_info": {
   "codemirror_mode": {
    "name": "ipython",
    "version": 3
   },
   "file_extension": ".py",
   "mimetype": "text/x-python",
   "name": "python",
   "nbconvert_exporter": "python",
   "pygments_lexer": "ipython3",
   "version": "3.7.6"
  }
 },
 "nbformat": 4,
 "nbformat_minor": 4
}
